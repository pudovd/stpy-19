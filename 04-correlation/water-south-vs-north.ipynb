{
 "cells": [
  {
   "cell_type": "markdown",
   "metadata": {},
   "source": [
    "### 1. Возьмите датасет Mortality and Water Hardness\n",
    "https://www.kaggle.com/ukveteran/mortality-and-water-hardness\n",
    "\n",
    "Дополнительно будет выложен в ЛК\n",
    "В этом датасете содержатся данные по средней годовой смертности на\n",
    "100000 населения и концентрации кальция в питьевой воде для 61\n",
    "большого города в Англии и Уэльсе. Города дополнительно поделены на\n",
    "северные и южные."
   ]
  },
  {
   "cell_type": "code",
   "execution_count": 1,
   "metadata": {},
   "outputs": [
    {
     "data": {
      "text/html": [
       "<div>\n",
       "<style scoped>\n",
       "    .dataframe tbody tr th:only-of-type {\n",
       "        vertical-align: middle;\n",
       "    }\n",
       "\n",
       "    .dataframe tbody tr th {\n",
       "        vertical-align: top;\n",
       "    }\n",
       "\n",
       "    .dataframe thead th {\n",
       "        text-align: right;\n",
       "    }\n",
       "</style>\n",
       "<table border=\"1\" class=\"dataframe\">\n",
       "  <thead>\n",
       "    <tr style=\"text-align: right;\">\n",
       "      <th></th>\n",
       "      <th>location</th>\n",
       "      <th>town</th>\n",
       "      <th>mortality</th>\n",
       "      <th>hardness</th>\n",
       "    </tr>\n",
       "  </thead>\n",
       "  <tbody>\n",
       "    <tr>\n",
       "      <th>1</th>\n",
       "      <td>South</td>\n",
       "      <td>Bath</td>\n",
       "      <td>1247</td>\n",
       "      <td>105</td>\n",
       "    </tr>\n",
       "    <tr>\n",
       "      <th>2</th>\n",
       "      <td>North</td>\n",
       "      <td>Birkenhead</td>\n",
       "      <td>1668</td>\n",
       "      <td>17</td>\n",
       "    </tr>\n",
       "    <tr>\n",
       "      <th>3</th>\n",
       "      <td>South</td>\n",
       "      <td>Birmingham</td>\n",
       "      <td>1466</td>\n",
       "      <td>5</td>\n",
       "    </tr>\n",
       "    <tr>\n",
       "      <th>4</th>\n",
       "      <td>North</td>\n",
       "      <td>Blackburn</td>\n",
       "      <td>1800</td>\n",
       "      <td>14</td>\n",
       "    </tr>\n",
       "    <tr>\n",
       "      <th>5</th>\n",
       "      <td>North</td>\n",
       "      <td>Blackpool</td>\n",
       "      <td>1609</td>\n",
       "      <td>18</td>\n",
       "    </tr>\n",
       "    <tr>\n",
       "      <th>...</th>\n",
       "      <td>...</td>\n",
       "      <td>...</td>\n",
       "      <td>...</td>\n",
       "      <td>...</td>\n",
       "    </tr>\n",
       "    <tr>\n",
       "      <th>57</th>\n",
       "      <td>South</td>\n",
       "      <td>Walsall</td>\n",
       "      <td>1527</td>\n",
       "      <td>60</td>\n",
       "    </tr>\n",
       "    <tr>\n",
       "      <th>58</th>\n",
       "      <td>South</td>\n",
       "      <td>West Bromwich</td>\n",
       "      <td>1627</td>\n",
       "      <td>53</td>\n",
       "    </tr>\n",
       "    <tr>\n",
       "      <th>59</th>\n",
       "      <td>South</td>\n",
       "      <td>West Ham</td>\n",
       "      <td>1486</td>\n",
       "      <td>122</td>\n",
       "    </tr>\n",
       "    <tr>\n",
       "      <th>60</th>\n",
       "      <td>South</td>\n",
       "      <td>Wolverhampton</td>\n",
       "      <td>1485</td>\n",
       "      <td>81</td>\n",
       "    </tr>\n",
       "    <tr>\n",
       "      <th>61</th>\n",
       "      <td>North</td>\n",
       "      <td>York</td>\n",
       "      <td>1378</td>\n",
       "      <td>71</td>\n",
       "    </tr>\n",
       "  </tbody>\n",
       "</table>\n",
       "<p>61 rows × 4 columns</p>\n",
       "</div>"
      ],
      "text/plain": [
       "   location           town  mortality  hardness\n",
       "1     South           Bath       1247       105\n",
       "2     North     Birkenhead       1668        17\n",
       "3     South     Birmingham       1466         5\n",
       "4     North      Blackburn       1800        14\n",
       "5     North      Blackpool       1609        18\n",
       "..      ...            ...        ...       ...\n",
       "57    South        Walsall       1527        60\n",
       "58    South  West Bromwich       1627        53\n",
       "59    South       West Ham       1486       122\n",
       "60    South  Wolverhampton       1485        81\n",
       "61    North           York       1378        71\n",
       "\n",
       "[61 rows x 4 columns]"
      ]
     },
     "execution_count": 1,
     "metadata": {},
     "output_type": "execute_result"
    }
   ],
   "source": [
    "import pandas as pd\n",
    "\n",
    "\n",
    "water = pd.read_csv(\"data/water.csv\", index_col=0)\n",
    "water"
   ]
  },
  {
   "cell_type": "markdown",
   "metadata": {},
   "source": [
    "### 2. Ответить на вопрос есть ли связь между жёсткостью воды и средней годовой смертностью?\n",
    "\n",
    "* Построить точечный график\n",
    "* Рассчитать коэффициенты корреляции Пирсона и Спирмена\n",
    "* Построить модель линейной регрессии\n",
    "* Рассчитать коэффициент детерминации\n",
    "* Вывести график остатков\n"
   ]
  },
  {
   "cell_type": "markdown",
   "metadata": {},
   "source": [
    "### 3. Сохраняется ли аналогичная зависимость для северных и южных городов по отдельности?\n",
    "\n",
    "    Разделить данные на 2 группы\n",
    "    Повторить аналогичные шаги из пункта 1 для каждой группы по отдельности\n"
   ]
  },
  {
   "cell_type": "code",
   "execution_count": 2,
   "metadata": {},
   "outputs": [],
   "source": [
    "water_south = water[water['location'] == 'South']\n",
    "water_north = water[water['location'] == 'North']"
   ]
  },
  {
   "cell_type": "code",
   "execution_count": 3,
   "metadata": {},
   "outputs": [
    {
     "data": {
      "text/plain": [
       "Text(0.5, 0.98, 'Корреляция между hardness и mortality')"
      ]
     },
     "execution_count": 3,
     "metadata": {},
     "output_type": "execute_result"
    },
    {
     "data": {
      "image/png": "[encoded data removed]",
      "text/plain": [
       "<Figure size 1080x360 with 2 Axes>"
      ]
     },
     "metadata": {
      "needs_background": "light"
     },
     "output_type": "display_data"
    }
   ],
   "source": [
    "import matplotlib.pyplot as plt\n",
    "\n",
    "\n",
    "fig, [ax0, ax1] = plt.subplots(1,2, figsize=(15,5))\n",
    "ax0.scatter(y=water_south['mortality'], x=water_south['hardness'])\n",
    "ax1.scatter(y=water_north['mortality'], x=water_north['hardness'])\n",
    "\n",
    "xlabel = 'жесткость воды'\n",
    "ylabel = 'смертность, на 100 тыс.'\n",
    "\n",
    "\n",
    "ax0.set_xlabel(xlabel)\n",
    "ax0.set_ylabel(ylabel)\n",
    "ax0.set_title('Южные города')\n",
    "ax1.set_xlabel(xlabel)\n",
    "ax1.set_ylabel(ylabel)\n",
    "ax1.set_title('Северные города')\n",
    "\n",
    "plt.suptitle(\"Корреляция между hardness и mortality\")"
   ]
  },
  {
   "cell_type": "code",
   "execution_count": 4,
   "metadata": {},
   "outputs": [
    {
     "name": "stdout",
     "output_type": "stream",
     "text": [
      "Коэффициенты корреляции для городов Юга. Пирсон: -0.6022, Спирмен: -0.5957\n",
      "Коэффициенты корреляции для городов Севера. Пирсон: -0.3686, Спирмен: -0.4042\n"
     ]
    }
   ],
   "source": [
    "# коэффициенты корреляции\n",
    "def correlations(df, location):\n",
    "    pearson = df.corr(method='pearson').loc['hardness', 'mortality'].round(4)\n",
    "    spearman = df.corr(method='spearman').loc['hardness', 'mortality'].round(4)\n",
    "    \n",
    "    print(f'Коэффициенты корреляции для городов {location}а. Пирсон: {pearson}, Спирмен: {spearman}')\n",
    "#     return pearson, spearman\n",
    "\n",
    "correlations(water_south, \"Юг\")\n",
    "correlations(water_north, \"Север\")\n"
   ]
  },
  {
   "cell_type": "markdown",
   "metadata": {},
   "source": [
    "### Модель линейной регресси"
   ]
  },
  {
   "cell_type": "code",
   "execution_count": 5,
   "metadata": {},
   "outputs": [
    {
     "name": "stdout",
     "output_type": "stream",
     "text": [
      "Линейная регрессии для городов Юга\n",
      "Модель линейной регрессии: y = -2.16*x + 1529.14\n",
      "Коэффициент детерминации: 0.7724\n",
      "Линейная регрессии для городов Севера\n",
      "Модель линейной регрессии: y = -1.82*x + 1687.71\n",
      "Коэффициент детерминации: 0.0323\n"
     ]
    }
   ],
   "source": [
    "from sklearn.linear_model import LinearRegression\n",
    "from sklearn.model_selection import train_test_split\n",
    "\n",
    "def linear_regression(df, location, test_size=0.30):\n",
    "    X = df[['hardness']]\n",
    "    y = df['mortality']\n",
    "\n",
    "    X_train, X_test, y_train, y_test = train_test_split(X, y, test_size=test_size, random_state=42)\n",
    "\n",
    "    model = LinearRegression()\n",
    "    model.fit(X_train, y_train)\n",
    "    \n",
    "    coef = model.coef_[0].round(2)\n",
    "    intercept = model.intercept_.round(2)\n",
    "    determination = model.score(X_test, y_test).round(4)\n",
    "    \n",
    "    print(f'Линейная регрессии для городов {location}а')\n",
    "    print(f'Модель линейной регрессии: y = {coef}*x + {intercept}')\n",
    "    print(f'Коэффициент детерминации: {determination}')\n",
    "    \n",
    "    return model\n",
    "\n",
    "# набор данных не большой, поэтому оставим под тестовые данные 10%\n",
    "model_south = linear_regression(water_south, \"Юг\", test_size=0.10)\n",
    "model_north = linear_regression(water_north, \"Север\", test_size=0.10)"
   ]
  },
  {
   "cell_type": "code",
   "execution_count": 6,
   "metadata": {},
   "outputs": [
    {
     "data": {
      "text/plain": [
       "Text(0.5, 0.98, 'Качество регрессии / визуализация остатков')"
      ]
     },
     "execution_count": 6,
     "metadata": {},
     "output_type": "execute_result"
    },
    {
     "data": {
      "image/png": "[encoded data removed]",
      "text/plain": [
       "<Figure size 1080x360 with 2 Axes>"
      ]
     },
     "metadata": {
      "needs_background": "light"
     },
     "output_type": "display_data"
    }
   ],
   "source": [
    "def data_for_residuals(model, df):\n",
    "    X = df[['hardness']]\n",
    "    y = df['mortality']\n",
    "    y_pred = model.predict(X)\n",
    "    residuals = y - y_pred\n",
    "    \n",
    "    return X, residuals\n",
    "\n",
    "def draw_residuals(model, df, location, ax):\n",
    "    X, residuals = data_for_residuals(model, df)\n",
    "    ax.scatter(X, residuals)\n",
    "    xlabel = 'жесткость воды'\n",
    "    ylabel = 'смертность, на 100 тыс.'\n",
    "\n",
    "\n",
    "    ax.set_xlabel(xlabel)\n",
    "    ax.set_ylabel(ylabel)\n",
    "    ax.set_title(f'города {location}а')\n",
    "    ax.grid(True)\n",
    "\n",
    "    \n",
    "fig, [ax0, ax1] = plt.subplots(1,2, figsize=(15,5))\n",
    "\n",
    "draw_residuals(model_south, water_south, \"Юг\", ax0)\n",
    "draw_residuals(model_north, water_north, \"Север\", ax1)\n",
    "\n",
    "plt.suptitle(\"Качество регрессии / визуализация остатков\")"
   ]
  },
  {
   "cell_type": "markdown",
   "metadata": {},
   "source": [
    "## Результаты и выводы\n",
    "\n",
    "**Результаты**  \n",
    "\n",
    "|локация|коэффициент Пирсона|коэффициент Спирмена|модель линейной регрессии|коэффициент детерминации|\n",
    "|-|-|-|-|-|\n",
    "|Юг|-0.6022|-0.5957|y = -2.16*x + 1529.14|0.7724|\n",
    "|Север|-0.3686|-0.4042|y = -1.82*x + 1687.71|0.0323|\n",
    "\n",
    "**Выводы**:\n",
    "1. города Юга:  \n",
    "    * Заметная (?) отрицательная корреляция между жесткостью воды и смертностью  \n",
    "    * Модель линейной регрессии имеет высокий коэффициент детерминации, что говорит о хорошем качестве модели\n",
    "2. города Сервера:  \n",
    "    * Корреляция не такая сильная  \n",
    "    * Качество модели линейной регрессии низкое. Это видно:  \n",
    "         * коэффициент детерминации около 0  \n",
    "         * на визулизации остатков виден выброс  \n"
   ]
  }
 ],
 "metadata": {
  "kernelspec": {
   "display_name": "Python 3",
   "language": "python",
   "name": "python3"
  },
  "language_info": {
   "codemirror_mode": {
    "name": "ipython",
    "version": 3
   },
   "file_extension": ".py",
   "mimetype": "text/x-python",
   "name": "python",
   "nbconvert_exporter": "python",
   "pygments_lexer": "ipython3",
   "version": "3.8.5"
  }
 },
 "nbformat": 4,
 "nbformat_minor": 4
}
