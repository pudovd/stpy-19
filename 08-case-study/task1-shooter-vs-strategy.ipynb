{
 "cells": [
  {
   "cell_type": "markdown",
   "metadata": {},
   "source": [
    "### Задание 1\n",
    "Вернемся к [набору данных о видеоиграх](https://github.com/obulygin/pyda_homeworks/blob/master/stat_case_study/vgsales.csv).\n",
    "\n",
    "Ответьте на следующие вопросы:\n",
    "\n",
    "1. Как критики относятся к спортивным играм?\n",
    "2. Критикам нравятся больше игры на PC или на PS4?\n",
    "3. Критикам больше нравятся стрелялки или стратегии?\n",
    "\n",
    "Для каждого вопроса:\n",
    "* сформулируйте нулевую и альтернативную гипотезы;\n",
    "* выберите пороговый уровень статистической значимости;\n",
    "* опишите полученные результаты статистического теста.\n",
    "\n"
   ]
  },
  {
   "cell_type": "code",
   "execution_count": 1,
   "metadata": {},
   "outputs": [],
   "source": [
    "import lzma\n",
    "import pandas as pd\n",
    "\n",
    "file = lzma.open('data/vgsales.csv.xz')\n",
    "sales = pd.read_csv(file)"
   ]
  },
  {
   "cell_type": "markdown",
   "metadata": {},
   "source": [
    "### Критикам больше нравятся стрелялки или стратегии?"
   ]
  },
  {
   "cell_type": "markdown",
   "metadata": {},
   "source": [
    "Гипотезы:\n",
    "* H0: средняя оценка критиков для шутеров и стратегий одинаковы\n",
    "* H1: средняя оценка критиков для шутеров и стратегий различаются\n",
    "\n",
    "Пороговый уровень статистической значимости примем 5%"
   ]
  },
  {
   "cell_type": "code",
   "execution_count": 2,
   "metadata": {},
   "outputs": [],
   "source": [
    "only_shooter = sales['Genre'] == 'Shooter'\n",
    "only_strategy = sales['Genre'] == 'Strategy'\n",
    "sales_shooter = sales[only_shooter][['Genre', 'Critic_Score']].dropna()\n",
    "sales_strategy = sales[only_strategy][['Genre', 'Critic_Score']].dropna()"
   ]
  },
  {
   "cell_type": "code",
   "execution_count": 3,
   "metadata": {},
   "outputs": [
    {
     "name": "stdout",
     "output_type": "stream",
     "text": [
      "-2.2972408230640315 0.021938989522304823\n",
      "Отвергаем H0. Критики оценили шутеры и стратегии по-разному\n"
     ]
    }
   ],
   "source": [
    "from scipy.stats import ttest_ind\n",
    "\n",
    "stats, p = ttest_ind(sales_shooter['Critic_Score'], sales_strategy['Critic_Score'], equal_var=False)\n",
    "print(stats, p)\n",
    "if p < 0.05:\n",
    "    print(\"Отвергаем H0. Критики оценили шутеры и стратегии по-разному\")\n",
    "else:\n",
    "    print(\"Не отвергаем H0. Критики оценили шутеры и стратегии одинаково\")"
   ]
  }
 ],
 "metadata": {
  "kernelspec": {
   "display_name": "Python 3",
   "language": "python",
   "name": "python3"
  },
  "language_info": {
   "codemirror_mode": {
    "name": "ipython",
    "version": 3
   },
   "file_extension": ".py",
   "mimetype": "text/x-python",
   "name": "python",
   "nbconvert_exporter": "python",
   "pygments_lexer": "ipython3",
   "version": "3.8.10"
  }
 },
 "nbformat": 4,
 "nbformat_minor": 4
}
