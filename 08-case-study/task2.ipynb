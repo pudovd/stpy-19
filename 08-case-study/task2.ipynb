{
 "cells": [
  {
   "cell_type": "markdown",
   "id": "bdbfd385",
   "metadata": {},
   "source": [
    "### Задание 2\n",
    "\n",
    "Реализуйте базовую модель логистической регрессии для классификации текстовых сообщений (используемые данные [здесь](https://github.com/obulygin/pyda_homeworks/blob/master/stat_case_study/spam.csv)) по признаку спама. Для этого:\n",
    "\n",
    "1. Привидите весь текст к нижнему регистру;\n",
    "2. Удалите мусорные символы;\n",
    "3. Удалите стоп-слова;\n",
    "4. Привидите все слова к нормальной форме;\n",
    "5. Преобразуйте все сообщения в вектора TF-IDF. Вам поможет следующий код:\n",
    "\n",
    "```\n",
    "from sklearn.feature_extraction.text import TfidfVectorizer\n",
    "\n",
    "tfidf = TfidfVectorizer()\n",
    "tfidf_matrix = tfidf.fit_transform(df.Message)\n",
    "names = tfidf.get_feature_names()\n",
    "tfidf_matrix = pd.DataFrame(tfidf_matrix.toarray(), columns=names)\n",
    "```\n",
    "\n",
    "Можете поэкспериментировать с параметрами [TfidfVectorizer](https://scikit-learn.org/stable/modules/generated/sklearn.feature_extraction.text.TfidfVectorizer.html);\n",
    "\n",
    "6. Разделите данные на тестовые и тренировочные в соотношении 30/70, укажите `random_state=42`. Используйте [train_test_split](https://scikit-learn.org/stable/modules/generated/sklearn.model_selection.train_test_split.html);\n",
    "7. Постройте модель [логистической регрессии](https://scikit-learn.org/stable/modules/generated/sklearn.linear_model.LogisticRegression.html), укажите `random_state=42`, оцените ее точность на тестовых данных;\n",
    "8. Опишите результаты при помощи [confusion_matrix](https://scikit-learn.org/stable/modules/generated/sklearn.metrics.confusion_matrix.html?highlight=confusion_matrix#sklearn.metrics.confusion_matrix);\n",
    "9. Постройте датафрейм, который будет содержать все исходные тексты сообщений, классифицированные неправильно (с указанием фактического и предсказанного).\n"
   ]
  },
  {
   "cell_type": "code",
   "execution_count": 1,
   "id": "8aaa119a",
   "metadata": {},
   "outputs": [],
   "source": [
    "import lzma\n",
    "import pandas as pd\n",
    "\n",
    "file = lzma.open('data/spam.csv.xz')\n",
    "texts = pd.read_csv(file)"
   ]
  },
  {
   "cell_type": "code",
   "execution_count": 2,
   "id": "ac5d65c4",
   "metadata": {},
   "outputs": [
    {
     "data": {
      "text/html": [
       "<div>\n",
       "<style scoped>\n",
       "    .dataframe tbody tr th:only-of-type {\n",
       "        vertical-align: middle;\n",
       "    }\n",
       "\n",
       "    .dataframe tbody tr th {\n",
       "        vertical-align: top;\n",
       "    }\n",
       "\n",
       "    .dataframe thead th {\n",
       "        text-align: right;\n",
       "    }\n",
       "</style>\n",
       "<table border=\"1\" class=\"dataframe\">\n",
       "  <thead>\n",
       "    <tr style=\"text-align: right;\">\n",
       "      <th></th>\n",
       "      <th>Category</th>\n",
       "      <th>Message</th>\n",
       "    </tr>\n",
       "  </thead>\n",
       "  <tbody>\n",
       "    <tr>\n",
       "      <th>0</th>\n",
       "      <td>ham</td>\n",
       "      <td>Go until jurong point, crazy.. Available only ...</td>\n",
       "    </tr>\n",
       "    <tr>\n",
       "      <th>1</th>\n",
       "      <td>ham</td>\n",
       "      <td>Ok lar... Joking wif u oni...</td>\n",
       "    </tr>\n",
       "    <tr>\n",
       "      <th>2</th>\n",
       "      <td>spam</td>\n",
       "      <td>Free entry in 2 a wkly comp to win FA Cup fina...</td>\n",
       "    </tr>\n",
       "    <tr>\n",
       "      <th>3</th>\n",
       "      <td>ham</td>\n",
       "      <td>U dun say so early hor... U c already then say...</td>\n",
       "    </tr>\n",
       "    <tr>\n",
       "      <th>4</th>\n",
       "      <td>ham</td>\n",
       "      <td>Nah I don't think he goes to usf, he lives aro...</td>\n",
       "    </tr>\n",
       "  </tbody>\n",
       "</table>\n",
       "</div>"
      ],
      "text/plain": [
       "  Category                                            Message\n",
       "0      ham  Go until jurong point, crazy.. Available only ...\n",
       "1      ham                      Ok lar... Joking wif u oni...\n",
       "2     spam  Free entry in 2 a wkly comp to win FA Cup fina...\n",
       "3      ham  U dun say so early hor... U c already then say...\n",
       "4      ham  Nah I don't think he goes to usf, he lives aro..."
      ]
     },
     "execution_count": 2,
     "metadata": {},
     "output_type": "execute_result"
    }
   ],
   "source": [
    "texts.head()"
   ]
  },
  {
   "cell_type": "code",
   "execution_count": 3,
   "id": "5efca60e",
   "metadata": {},
   "outputs": [
    {
     "name": "stderr",
     "output_type": "stream",
     "text": [
      "[nltk_data] Downloading package stopwords to /home/kolt/nltk_data...\n",
      "[nltk_data]   Package stopwords is already up-to-date!\n",
      "[nltk_data] Downloading package wordnet to /home/kolt/nltk_data...\n",
      "[nltk_data]   Package wordnet is already up-to-date!\n"
     ]
    },
    {
     "data": {
      "text/plain": [
       "True"
      ]
     },
     "execution_count": 3,
     "metadata": {},
     "output_type": "execute_result"
    }
   ],
   "source": [
    "import nltk\n",
    "nltk.download('stopwords')\n",
    "nltk.download('wordnet')"
   ]
  },
  {
   "cell_type": "code",
   "execution_count": 4,
   "id": "67eccfe8",
   "metadata": {},
   "outputs": [
    {
     "data": {
      "text/html": [
       "<div>\n",
       "<style scoped>\n",
       "    .dataframe tbody tr th:only-of-type {\n",
       "        vertical-align: middle;\n",
       "    }\n",
       "\n",
       "    .dataframe tbody tr th {\n",
       "        vertical-align: top;\n",
       "    }\n",
       "\n",
       "    .dataframe thead th {\n",
       "        text-align: right;\n",
       "    }\n",
       "</style>\n",
       "<table border=\"1\" class=\"dataframe\">\n",
       "  <thead>\n",
       "    <tr style=\"text-align: right;\">\n",
       "      <th></th>\n",
       "      <th>Category</th>\n",
       "      <th>Message</th>\n",
       "      <th>Proccessed</th>\n",
       "    </tr>\n",
       "  </thead>\n",
       "  <tbody>\n",
       "    <tr>\n",
       "      <th>0</th>\n",
       "      <td>ham</td>\n",
       "      <td>Go until jurong point, crazy.. Available only ...</td>\n",
       "      <td>go jurong point crazy available bugis n great ...</td>\n",
       "    </tr>\n",
       "    <tr>\n",
       "      <th>1</th>\n",
       "      <td>ham</td>\n",
       "      <td>Ok lar... Joking wif u oni...</td>\n",
       "      <td>ok lar joking wif u oni</td>\n",
       "    </tr>\n",
       "    <tr>\n",
       "      <th>2</th>\n",
       "      <td>spam</td>\n",
       "      <td>Free entry in 2 a wkly comp to win FA Cup fina...</td>\n",
       "      <td>free entry 2 wkly comp win fa cup final tkts 2...</td>\n",
       "    </tr>\n",
       "    <tr>\n",
       "      <th>3</th>\n",
       "      <td>ham</td>\n",
       "      <td>U dun say so early hor... U c already then say...</td>\n",
       "      <td>u dun say early hor u c already say</td>\n",
       "    </tr>\n",
       "    <tr>\n",
       "      <th>4</th>\n",
       "      <td>ham</td>\n",
       "      <td>Nah I don't think he goes to usf, he lives aro...</td>\n",
       "      <td>nah think go usf life around though</td>\n",
       "    </tr>\n",
       "  </tbody>\n",
       "</table>\n",
       "</div>"
      ],
      "text/plain": [
       "  Category                                            Message  \\\n",
       "0      ham  Go until jurong point, crazy.. Available only ...   \n",
       "1      ham                      Ok lar... Joking wif u oni...   \n",
       "2     spam  Free entry in 2 a wkly comp to win FA Cup fina...   \n",
       "3      ham  U dun say so early hor... U c already then say...   \n",
       "4      ham  Nah I don't think he goes to usf, he lives aro...   \n",
       "\n",
       "                                          Proccessed  \n",
       "0  go jurong point crazy available bugis n great ...  \n",
       "1                            ok lar joking wif u oni  \n",
       "2  free entry 2 wkly comp win fa cup final tkts 2...  \n",
       "3                u dun say early hor u c already say  \n",
       "4                nah think go usf life around though  "
      ]
     },
     "execution_count": 4,
     "metadata": {},
     "output_type": "execute_result"
    }
   ],
   "source": [
    "import re\n",
    "from nltk.corpus import stopwords\n",
    "from nltk.stem import WordNetLemmatizer\n",
    "\n",
    "stopwords_set = set(stopwords.words('english'))\n",
    "wordnet_lemmatizer = WordNetLemmatizer()\n",
    "\n",
    "to_lower = lambda x: x.lower()\n",
    "only_word_characters = lambda x: re.sub('[\\W_]+', ' ', x)\n",
    "to_words = lambda x: x.split()\n",
    "skip_stopword = lambda x: [word for word in x if word not in stopwords_set ]\n",
    "lemmatize = lambda x: [wordnet_lemmatizer.lemmatize(word) for word in x]\n",
    "to_sentence = lambda x: ' '.join(x)\n",
    "\n",
    "\n",
    "texts['Proccessed'] = (texts['Message']\n",
    "                    .apply(to_lower)\n",
    "                    .apply(only_word_characters)\n",
    "                    .apply(to_words)\n",
    "                    .apply(skip_stopword)\n",
    "                    .apply(lemmatize)\n",
    "                    .apply(to_sentence)\n",
    "                   )\n",
    "texts.head()"
   ]
  },
  {
   "cell_type": "code",
   "execution_count": 5,
   "id": "96691b04",
   "metadata": {},
   "outputs": [],
   "source": [
    "from sklearn.feature_extraction.text import TfidfVectorizer\n",
    "\n",
    "tfidf = TfidfVectorizer()\n",
    "tfidf_matrix = tfidf.fit_transform(texts['Proccessed'])\n",
    "names = tfidf.get_feature_names()\n",
    "tfidf_matrix = pd.DataFrame(tfidf_matrix.toarray(), columns=names)"
   ]
  },
  {
   "cell_type": "code",
   "execution_count": 6,
   "id": "a9f31a46",
   "metadata": {},
   "outputs": [],
   "source": [
    "from sklearn.model_selection import train_test_split\n",
    "\n",
    "data = tfidf_matrix\n",
    "data_class = texts['Category']\n",
    "\n",
    "X_train, X_test, y_train, y_test = train_test_split(data, data_class, test_size=0.30, random_state=42)"
   ]
  },
  {
   "cell_type": "code",
   "execution_count": 7,
   "id": "8cfb9a38",
   "metadata": {},
   "outputs": [],
   "source": [
    "from sklearn.linear_model import LogisticRegression\n",
    "\n",
    "lr = LogisticRegression(random_state=42)\n",
    "lr.fit(X_train, y_train)\n",
    "\n",
    "y_pred = lr.predict(X_test)"
   ]
  },
  {
   "cell_type": "code",
   "execution_count": 8,
   "id": "dd56c7c1",
   "metadata": {},
   "outputs": [
    {
     "data": {
      "text/plain": [
       "0.958732057416268"
      ]
     },
     "execution_count": 8,
     "metadata": {},
     "output_type": "execute_result"
    }
   ],
   "source": [
    "from sklearn.metrics import accuracy_score\n",
    "\n",
    "accuracy_score(y_test, y_pred)"
   ]
  },
  {
   "cell_type": "code",
   "execution_count": 9,
   "id": "37b65572",
   "metadata": {},
   "outputs": [
    {
     "data": {
      "text/plain": [
       "array([[1445,    3],\n",
       "       [  66,  158]])"
      ]
     },
     "execution_count": 9,
     "metadata": {},
     "output_type": "execute_result"
    }
   ],
   "source": [
    "from sklearn.metrics import confusion_matrix\n",
    "\n",
    "confusion_matrix(y_test, y_pred)"
   ]
  },
  {
   "cell_type": "code",
   "execution_count": 10,
   "id": "9f4d808c",
   "metadata": {},
   "outputs": [
    {
     "data": {
      "image/png": "[encoded data removed]",
      "text/plain": [
       "<Figure size 1080x720 with 2 Axes>"
      ]
     },
     "metadata": {
      "needs_background": "light"
     },
     "output_type": "display_data"
    }
   ],
   "source": [
    "from sklearn.metrics import plot_confusion_matrix\n",
    "from pylab import rcParams\n",
    "\n",
    "rcParams['figure.figsize'] = 15,10\n",
    "\n",
    "ax = plot_confusion_matrix(lr, X_test, y_test)"
   ]
  },
  {
   "cell_type": "code",
   "execution_count": 11,
   "id": "be649805",
   "metadata": {},
   "outputs": [
    {
     "data": {
      "text/html": [
       "<div>\n",
       "<style scoped>\n",
       "    .dataframe tbody tr th:only-of-type {\n",
       "        vertical-align: middle;\n",
       "    }\n",
       "\n",
       "    .dataframe tbody tr th {\n",
       "        vertical-align: top;\n",
       "    }\n",
       "\n",
       "    .dataframe thead th {\n",
       "        text-align: right;\n",
       "    }\n",
       "</style>\n",
       "<table border=\"1\" class=\"dataframe\">\n",
       "  <thead>\n",
       "    <tr style=\"text-align: right;\">\n",
       "      <th></th>\n",
       "      <th>Category (predicted)</th>\n",
       "      <th>Category</th>\n",
       "      <th>Message</th>\n",
       "      <th>Proccessed</th>\n",
       "    </tr>\n",
       "  </thead>\n",
       "  <tbody>\n",
       "    <tr>\n",
       "      <th>3245</th>\n",
       "      <td>ham</td>\n",
       "      <td>ham</td>\n",
       "      <td>Squeeeeeze!! This is christmas hug.. If u lik ...</td>\n",
       "      <td>squeeeeeze christmas hug u lik frndshp den hug...</td>\n",
       "    </tr>\n",
       "    <tr>\n",
       "      <th>944</th>\n",
       "      <td>ham</td>\n",
       "      <td>ham</td>\n",
       "      <td>And also I've sorta blown him off a couple tim...</td>\n",
       "      <td>also sorta blown couple time recently id rathe...</td>\n",
       "    </tr>\n",
       "    <tr>\n",
       "      <th>1044</th>\n",
       "      <td>ham</td>\n",
       "      <td>ham</td>\n",
       "      <td>Mmm thats better now i got a roast down me! i...</td>\n",
       "      <td>mmm thats better got roast b better drink 2 go...</td>\n",
       "    </tr>\n",
       "    <tr>\n",
       "      <th>2484</th>\n",
       "      <td>ham</td>\n",
       "      <td>ham</td>\n",
       "      <td>Mm have some kanji dont eat anything heavy ok</td>\n",
       "      <td>mm kanji dont eat anything heavy ok</td>\n",
       "    </tr>\n",
       "    <tr>\n",
       "      <th>812</th>\n",
       "      <td>ham</td>\n",
       "      <td>ham</td>\n",
       "      <td>So there's a ring that comes with the guys cos...</td>\n",
       "      <td>ring come guy costume gift future yowifes hint...</td>\n",
       "    </tr>\n",
       "  </tbody>\n",
       "</table>\n",
       "</div>"
      ],
      "text/plain": [
       "     Category (predicted) Category  \\\n",
       "3245                  ham      ham   \n",
       "944                   ham      ham   \n",
       "1044                  ham      ham   \n",
       "2484                  ham      ham   \n",
       "812                   ham      ham   \n",
       "\n",
       "                                                Message  \\\n",
       "3245  Squeeeeeze!! This is christmas hug.. If u lik ...   \n",
       "944   And also I've sorta blown him off a couple tim...   \n",
       "1044  Mmm thats better now i got a roast down me! i...   \n",
       "2484      Mm have some kanji dont eat anything heavy ok   \n",
       "812   So there's a ring that comes with the guys cos...   \n",
       "\n",
       "                                             Proccessed  \n",
       "3245  squeeeeeze christmas hug u lik frndshp den hug...  \n",
       "944   also sorta blown couple time recently id rathe...  \n",
       "1044  mmm thats better got roast b better drink 2 go...  \n",
       "2484                mm kanji dont eat anything heavy ok  \n",
       "812   ring come guy costume gift future yowifes hint...  "
      ]
     },
     "execution_count": 11,
     "metadata": {},
     "output_type": "execute_result"
    }
   ],
   "source": [
    "predicted_df = pd.DataFrame(y_pred, index=X_test.index, columns=['Category (predicted)'])\n",
    "predicted_texts = predicted_df.join(texts)\n",
    "predicted_texts.head()"
   ]
  },
  {
   "cell_type": "code",
   "execution_count": 12,
   "id": "3a369cb9",
   "metadata": {},
   "outputs": [
    {
     "data": {
      "text/html": [
       "<div>\n",
       "<style scoped>\n",
       "    .dataframe tbody tr th:only-of-type {\n",
       "        vertical-align: middle;\n",
       "    }\n",
       "\n",
       "    .dataframe tbody tr th {\n",
       "        vertical-align: top;\n",
       "    }\n",
       "\n",
       "    .dataframe thead th {\n",
       "        text-align: right;\n",
       "    }\n",
       "</style>\n",
       "<table border=\"1\" class=\"dataframe\">\n",
       "  <thead>\n",
       "    <tr style=\"text-align: right;\">\n",
       "      <th></th>\n",
       "      <th>Category (predicted)</th>\n",
       "      <th>Category</th>\n",
       "      <th>Message</th>\n",
       "      <th>Proccessed</th>\n",
       "    </tr>\n",
       "  </thead>\n",
       "  <tbody>\n",
       "    <tr>\n",
       "      <th>2952</th>\n",
       "      <td>spam</td>\n",
       "      <td>ham</td>\n",
       "      <td>Hey now am free you can call me.</td>\n",
       "      <td>hey free call</td>\n",
       "    </tr>\n",
       "    <tr>\n",
       "      <th>881</th>\n",
       "      <td>ham</td>\n",
       "      <td>spam</td>\n",
       "      <td>Reminder: You have not downloaded the content ...</td>\n",
       "      <td>reminder downloaded content already paid goto ...</td>\n",
       "    </tr>\n",
       "    <tr>\n",
       "      <th>1961</th>\n",
       "      <td>ham</td>\n",
       "      <td>spam</td>\n",
       "      <td>Guess what! Somebody you know secretly fancies...</td>\n",
       "      <td>guess somebody know secretly fancy wanna find ...</td>\n",
       "    </tr>\n",
       "    <tr>\n",
       "      <th>3864</th>\n",
       "      <td>ham</td>\n",
       "      <td>spam</td>\n",
       "      <td>Oh my god! I've found your number again! I'm s...</td>\n",
       "      <td>oh god found number glad text back xafter msg ...</td>\n",
       "    </tr>\n",
       "    <tr>\n",
       "      <th>2575</th>\n",
       "      <td>ham</td>\n",
       "      <td>spam</td>\n",
       "      <td>Your next amazing xxx PICSFREE1 video will be ...</td>\n",
       "      <td>next amazing xxx picsfree1 video sent enjoy on...</td>\n",
       "    </tr>\n",
       "    <tr>\n",
       "      <th>...</th>\n",
       "      <td>...</td>\n",
       "      <td>...</td>\n",
       "      <td>...</td>\n",
       "      <td>...</td>\n",
       "    </tr>\n",
       "    <tr>\n",
       "      <th>4543</th>\n",
       "      <td>ham</td>\n",
       "      <td>spam</td>\n",
       "      <td>FreeMsg Hi baby wow just got a new cam moby. W...</td>\n",
       "      <td>freemsg hi baby wow got new cam moby wanna c h...</td>\n",
       "    </tr>\n",
       "    <tr>\n",
       "      <th>752</th>\n",
       "      <td>ham</td>\n",
       "      <td>spam</td>\n",
       "      <td>You have an important customer service announc...</td>\n",
       "      <td>important customer service announcement premier</td>\n",
       "    </tr>\n",
       "    <tr>\n",
       "      <th>309</th>\n",
       "      <td>ham</td>\n",
       "      <td>spam</td>\n",
       "      <td>TheMob&gt; Check out our newest selection of cont...</td>\n",
       "      <td>themob check newest selection content game ton...</td>\n",
       "    </tr>\n",
       "    <tr>\n",
       "      <th>495</th>\n",
       "      <td>spam</td>\n",
       "      <td>ham</td>\n",
       "      <td>Are you free now?can i call now?</td>\n",
       "      <td>free call</td>\n",
       "    </tr>\n",
       "    <tr>\n",
       "      <th>305</th>\n",
       "      <td>ham</td>\n",
       "      <td>spam</td>\n",
       "      <td>SMS. ac Blind Date 4U!: Rodds1 is 21/m from Ab...</td>\n",
       "      <td>sm ac blind date 4u rodds1 21 aberdeen united ...</td>\n",
       "    </tr>\n",
       "  </tbody>\n",
       "</table>\n",
       "<p>69 rows × 4 columns</p>\n",
       "</div>"
      ],
      "text/plain": [
       "     Category (predicted) Category  \\\n",
       "2952                 spam      ham   \n",
       "881                   ham     spam   \n",
       "1961                  ham     spam   \n",
       "3864                  ham     spam   \n",
       "2575                  ham     spam   \n",
       "...                   ...      ...   \n",
       "4543                  ham     spam   \n",
       "752                   ham     spam   \n",
       "309                   ham     spam   \n",
       "495                  spam      ham   \n",
       "305                   ham     spam   \n",
       "\n",
       "                                                Message  \\\n",
       "2952                   Hey now am free you can call me.   \n",
       "881   Reminder: You have not downloaded the content ...   \n",
       "1961  Guess what! Somebody you know secretly fancies...   \n",
       "3864  Oh my god! I've found your number again! I'm s...   \n",
       "2575  Your next amazing xxx PICSFREE1 video will be ...   \n",
       "...                                                 ...   \n",
       "4543  FreeMsg Hi baby wow just got a new cam moby. W...   \n",
       "752   You have an important customer service announc...   \n",
       "309   TheMob> Check out our newest selection of cont...   \n",
       "495                    Are you free now?can i call now?   \n",
       "305   SMS. ac Blind Date 4U!: Rodds1 is 21/m from Ab...   \n",
       "\n",
       "                                             Proccessed  \n",
       "2952                                      hey free call  \n",
       "881   reminder downloaded content already paid goto ...  \n",
       "1961  guess somebody know secretly fancy wanna find ...  \n",
       "3864  oh god found number glad text back xafter msg ...  \n",
       "2575  next amazing xxx picsfree1 video sent enjoy on...  \n",
       "...                                                 ...  \n",
       "4543  freemsg hi baby wow got new cam moby wanna c h...  \n",
       "752     important customer service announcement premier  \n",
       "309   themob check newest selection content game ton...  \n",
       "495                                           free call  \n",
       "305   sm ac blind date 4u rodds1 21 aberdeen united ...  \n",
       "\n",
       "[69 rows x 4 columns]"
      ]
     },
     "execution_count": 12,
     "metadata": {},
     "output_type": "execute_result"
    }
   ],
   "source": [
    "differ = predicted_texts['Category (predicted)'] != predicted_texts['Category']\n",
    "predicted_texts[differ]"
   ]
  }
 ],
 "metadata": {
  "kernelspec": {
   "display_name": "Python 3",
   "language": "python",
   "name": "python3"
  },
  "language_info": {
   "codemirror_mode": {
    "name": "ipython",
    "version": 3
   },
   "file_extension": ".py",
   "mimetype": "text/x-python",
   "name": "python",
   "nbconvert_exporter": "python",
   "pygments_lexer": "ipython3",
   "version": "3.8.10"
  }
 },
 "nbformat": 4,
 "nbformat_minor": 5
}
