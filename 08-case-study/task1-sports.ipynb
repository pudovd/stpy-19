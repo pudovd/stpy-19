{
 "cells": [
  {
   "cell_type": "markdown",
   "metadata": {},
   "source": [
    "### Задание 1\n",
    "Вернемся к [набору данных о видеоиграх](https://github.com/obulygin/pyda_homeworks/blob/master/stat_case_study/vgsales.csv).\n",
    "\n",
    "Ответьте на следующие вопросы:\n",
    "\n",
    "1. Как критики относятся к спортивным играм?\n",
    "2. Критикам нравятся больше игры на PC или на PS4?\n",
    "3. Критикам больше нравятся стрелялки или стратегии?\n",
    "\n",
    "Для каждого вопроса:\n",
    "* сформулируйте нулевую и альтернативную гипотезы;\n",
    "* выберите пороговый уровень статистической значимости;\n",
    "* опишите полученные результаты статистического теста.\n",
    "\n"
   ]
  },
  {
   "cell_type": "code",
   "execution_count": 1,
   "metadata": {},
   "outputs": [],
   "source": [
    "import lzma\n",
    "import pandas as pd\n",
    "\n",
    "file = lzma.open('data/vgsales.csv.xz')\n",
    "sales = pd.read_csv(file)"
   ]
  },
  {
   "cell_type": "markdown",
   "metadata": {},
   "source": [
    "### Как критики относятся к спортивным играм?"
   ]
  },
  {
   "cell_type": "markdown",
   "metadata": {},
   "source": [
    "Предположим такую интерпретацию оценок. \n",
    "\n",
    "| Диапазон | Категория | Пояснение |\n",
    "| :------: | :-------: | :-------: |\n",
    "| 0 < score <= 25 | ужасно | не надо тратить время |\n",
    "| 25 < score <= 50 | плохо | только для фанатиков |\n",
    "| 50 < score <= 75 | хорошо | можно поиграть |\n",
    "| 75 < score <= 100 | отлично | надо поиграть |\n",
    "\n",
    "\n",
    "Гипотезы:\n",
    "* H0: средняя оценка критиков спортивным играм <= 75\n",
    "* H1: средняя оценка критиков спортивным играм более 75\n",
    "\n",
    "Пороговый уровень статистической значимости примем 5%"
   ]
  },
  {
   "cell_type": "code",
   "execution_count": 2,
   "metadata": {},
   "outputs": [],
   "source": [
    "only_sports = sales['Genre'] == 'Sports'\n",
    "sports_vs_critic_score = sales[only_sports][['Genre', 'Critic_Score']].dropna()"
   ]
  },
  {
   "cell_type": "markdown",
   "metadata": {},
   "source": [
    "#### Изучение данных / характер распределения / визуализация"
   ]
  },
  {
   "cell_type": "code",
   "execution_count": 3,
   "metadata": {},
   "outputs": [
    {
     "data": {
      "image/png": "[encoded data removed]",
      "text/plain": [
       "<Figure size 1080x720 with 1 Axes>"
      ]
     },
     "metadata": {
      "needs_background": "light"
     },
     "output_type": "display_data"
    }
   ],
   "source": [
    "import seaborn as sns\n",
    "from pylab import rcParams\n",
    "\n",
    "rcParams['figure.figsize'] = 15,10\n",
    "ax = sns.histplot(sports_vs_critic_score)"
   ]
  },
  {
   "cell_type": "markdown",
   "metadata": {},
   "source": [
    "#### Изучение данных / характер распределения / тест на нормальность\n",
    "Источник - https://www.machinelearningmastery.ru/statistical-hypothesis-tests-in-python-cheat-sheet/"
   ]
  },
  {
   "cell_type": "code",
   "execution_count": 4,
   "metadata": {},
   "outputs": [
    {
     "name": "stdout",
     "output_type": "stream",
     "text": [
      "151.25075517450526 1.4332297751857863e-33\n",
      "Отвергаем H0. Данные не имеют гауссово распределение\n"
     ]
    }
   ],
   "source": [
    "from scipy.stats import normaltest\n",
    "\n",
    "stats, p = normaltest(sports_vs_critic_score['Critic_Score'])\n",
    "\n",
    "print(stats, p)\n",
    "if p < 0.05:\n",
    "    print(\"Отвергаем H0. Данные не имеют гауссово распределение\")\n",
    "else:\n",
    "    print(\"Не отвергаем H0. Данные имеют гауссово распределение\")"
   ]
  },
  {
   "cell_type": "markdown",
   "metadata": {},
   "source": [
    "#### Изучение данных / характер распределения / выводы\n",
    "Оценки критиков не соответствует нормальному распределению.\n",
    "\n",
    "Исходя из [схемы](http://lit-review.ru/wp-content/uploads/2018/04/vibor_stat_kriteria-1024x774.png) и наших данных и условий задачи выбираем **Критерий Вилкоксона**"
   ]
  },
  {
   "cell_type": "code",
   "execution_count": 5,
   "metadata": {},
   "outputs": [
    {
     "data": {
      "text/plain": [
       "WilcoxonResult(statistic=713415.0, pvalue=3.574976351667195e-197)"
      ]
     },
     "execution_count": 5,
     "metadata": {},
     "output_type": "execute_result"
    }
   ],
   "source": [
    "from scipy.stats import wilcoxon\n",
    "\n",
    "wilcoxon(sports_vs_critic_score['Critic_Score'], alternative='greater')"
   ]
  },
  {
   "cell_type": "markdown",
   "metadata": {},
   "source": [
    "С критерием Вилкоксона не очень получилось :(   \n",
    "Не понятно как его использовать для сравнения со значением.\n",
    "\n",
    "Возьмем `ttest_1samp`..."
   ]
  },
  {
   "cell_type": "code",
   "execution_count": 6,
   "metadata": {},
   "outputs": [
    {
     "name": "stdout",
     "output_type": "stream",
     "text": [
      "-7.5485926388546725 0.9999999999999565\n",
      "Не отвергаем H0. Критики оценили спортивные игры ниже 75\n"
     ]
    }
   ],
   "source": [
    "from scipy.stats import ttest_1samp\n",
    "\n",
    "stats, p = ttest_1samp(sports_vs_critic_score['Critic_Score'], 75, alternative='greater')\n",
    "print(stats, p)\n",
    "if p < 0.05:\n",
    "    print(\"Отвергаем H0. Критики оценили спортивные игры выше 75\")\n",
    "else:\n",
    "    print(\"Не отвергаем H0. Критики оценили спортивные игры ниже 75\")"
   ]
  }
 ],
 "metadata": {
  "kernelspec": {
   "display_name": "Python 3",
   "language": "python",
   "name": "python3"
  },
  "language_info": {
   "codemirror_mode": {
    "name": "ipython",
    "version": 3
   },
   "file_extension": ".py",
   "mimetype": "text/x-python",
   "name": "python",
   "nbconvert_exporter": "python",
   "pygments_lexer": "ipython3",
   "version": "3.8.10"
  }
 },
 "nbformat": 4,
 "nbformat_minor": 4
}
