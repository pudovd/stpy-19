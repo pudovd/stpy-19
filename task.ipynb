{
 "cells": [
  {
   "cell_type": "markdown",
   "metadata": {},
   "source": [
    "# Домашнее задание к лекции \"Базовые понятия статистики\"\n",
    "Будем осуществлять работу с [непростым набором данных](https://raw.githubusercontent.com/obulygin/pyda_homeworks/master/statistics_basics/horse_data.csv) о состоянии здоровья лошадей, испытывающих кишечные колики. Цель – максимально корректно заполнить пропуски."
   ]
  },
  {
   "cell_type": "markdown",
   "metadata": {},
   "source": [
    "## Задание 1. Загрузка данных\n",
    "\n",
    "Изучить представленный набор данных на основе [описания его столбцов](https://raw.githubusercontent.com/obulygin/pyda_homeworks/master/statistics_basics/horse_data.names), загрузить его и оставить 8 столбцов для дальнейшего изучения: `surgery?`, `Age`, `rectal temperature`, `pulse`, `respiratory rate`, `temperature of extremities`, `pain`, `outcome`."
   ]
  },
  {
   "cell_type": "code",
   "execution_count": 1,
   "metadata": {},
   "outputs": [],
   "source": [
    "import pandas as pd\n",
    "\n",
    "url = \"https://raw.githubusercontent.com/obulygin/pyda_homeworks/master/statistics_basics/horse_data.csv\"\n",
    "names_with_dtype = [\n",
    "    (\"surgery?\", \"category\"),\n",
    "    (\"age\", \"int8\"),\n",
    "    (\"hospital_number\", \"int64\"),\n",
    "    (\"rectal_temperature\", \"float64\"),\n",
    "    (\"pulse\", \"float64\"),\n",
    "    (\"respiratory_rate\", \"float64\"),\n",
    "    (\"temperature_of_extremities\", \"category\"),\n",
    "    (\"peripheral_pulse\", \"category\"),\n",
    "    (\"mucous_membranes\", \"category\"),\n",
    "    (\"capillary_refill_time\", \"category\"),\n",
    "    (\"pain\", \"category\"),\n",
    "    (\"peristalsis\", \"category\"),\n",
    "    (\"abdominal_distension\", \"category\"),\n",
    "    (\"nasogastric_tube\", \"category\"),\n",
    "    (\"nasogastric_reflux\", \"category\"),\n",
    "    (\"nasogastric_reflux_ph\", \"float64\"),\n",
    "    (\"rectal_examination_feces\", \"category\"),\n",
    "    (\"abdomen\", \"category\"),\n",
    "    (\"packed_cell_volume\", \"float64\"),\n",
    "    (\"total_protein\", \"float64\"),\n",
    "    (\"abdominocentesis_appearance\", \"category\"),\n",
    "    (\"abdomcentesis_total_protein\", \"float64\"),\n",
    "    (\"outcome\", \"category\"),\n",
    "    (\"surgical_lesion?\", \"category\"),\n",
    "    (\"site_of_lesion\", \"category\"),\n",
    "    (\"type_of_lesion\", \"category\"),\n",
    "    (\"subtype_of_lesion\", \"category\"),\n",
    "    (\"code_of_lesion\", \"category\"),\n",
    "    (\"cp_data\", \"category\"),\n",
    "]\n",
    "names = [name for name, dtype in names_with_dtype]\n",
    "dtype = {name: dtype for name, dtype in names_with_dtype}\n",
    "# prepare na_values\n",
    "#na_values = {'code_of_lesion': 0, 'subtype_of_lesion': 0}\n",
    "#[na_values.setdefault(name, '?') for name in names]\n",
    "\n",
    "horse_data = pd.read_csv(url, names=names, na_values=['?'], dtype=dtype)"
   ]
  },
  {
   "cell_type": "markdown",
   "metadata": {},
   "source": [
    "# Проверяем, что все признаки с именами"
   ]
  },
  {
   "cell_type": "code",
   "execution_count": 2,
   "metadata": {},
   "outputs": [
    {
     "data": {
      "text/html": [
       "<div>\n",
       "<style scoped>\n",
       "    .dataframe tbody tr th:only-of-type {\n",
       "        vertical-align: middle;\n",
       "    }\n",
       "\n",
       "    .dataframe tbody tr th {\n",
       "        vertical-align: top;\n",
       "    }\n",
       "\n",
       "    .dataframe thead th {\n",
       "        text-align: right;\n",
       "    }\n",
       "</style>\n",
       "<table border=\"1\" class=\"dataframe\">\n",
       "  <thead>\n",
       "    <tr style=\"text-align: right;\">\n",
       "      <th></th>\n",
       "      <th>0</th>\n",
       "    </tr>\n",
       "  </thead>\n",
       "  <tbody>\n",
       "    <tr>\n",
       "      <th>surgery?</th>\n",
       "      <td>2</td>\n",
       "    </tr>\n",
       "    <tr>\n",
       "      <th>age</th>\n",
       "      <td>1</td>\n",
       "    </tr>\n",
       "    <tr>\n",
       "      <th>hospital_number</th>\n",
       "      <td>530101</td>\n",
       "    </tr>\n",
       "    <tr>\n",
       "      <th>rectal_temperature</th>\n",
       "      <td>38.5</td>\n",
       "    </tr>\n",
       "    <tr>\n",
       "      <th>pulse</th>\n",
       "      <td>66</td>\n",
       "    </tr>\n",
       "    <tr>\n",
       "      <th>respiratory_rate</th>\n",
       "      <td>28</td>\n",
       "    </tr>\n",
       "    <tr>\n",
       "      <th>temperature_of_extremities</th>\n",
       "      <td>3</td>\n",
       "    </tr>\n",
       "    <tr>\n",
       "      <th>peripheral_pulse</th>\n",
       "      <td>3</td>\n",
       "    </tr>\n",
       "    <tr>\n",
       "      <th>mucous_membranes</th>\n",
       "      <td>NaN</td>\n",
       "    </tr>\n",
       "    <tr>\n",
       "      <th>capillary_refill_time</th>\n",
       "      <td>2</td>\n",
       "    </tr>\n",
       "    <tr>\n",
       "      <th>pain</th>\n",
       "      <td>5</td>\n",
       "    </tr>\n",
       "    <tr>\n",
       "      <th>peristalsis</th>\n",
       "      <td>4</td>\n",
       "    </tr>\n",
       "    <tr>\n",
       "      <th>abdominal_distension</th>\n",
       "      <td>4</td>\n",
       "    </tr>\n",
       "    <tr>\n",
       "      <th>nasogastric_tube</th>\n",
       "      <td>NaN</td>\n",
       "    </tr>\n",
       "    <tr>\n",
       "      <th>nasogastric_reflux</th>\n",
       "      <td>NaN</td>\n",
       "    </tr>\n",
       "    <tr>\n",
       "      <th>nasogastric_reflux_ph</th>\n",
       "      <td>NaN</td>\n",
       "    </tr>\n",
       "    <tr>\n",
       "      <th>rectal_examination_feces</th>\n",
       "      <td>3</td>\n",
       "    </tr>\n",
       "    <tr>\n",
       "      <th>abdomen</th>\n",
       "      <td>5</td>\n",
       "    </tr>\n",
       "    <tr>\n",
       "      <th>packed_cell_volume</th>\n",
       "      <td>45</td>\n",
       "    </tr>\n",
       "    <tr>\n",
       "      <th>total_protein</th>\n",
       "      <td>8.4</td>\n",
       "    </tr>\n",
       "    <tr>\n",
       "      <th>abdominocentesis_appearance</th>\n",
       "      <td>NaN</td>\n",
       "    </tr>\n",
       "    <tr>\n",
       "      <th>abdomcentesis_total_protein</th>\n",
       "      <td>NaN</td>\n",
       "    </tr>\n",
       "    <tr>\n",
       "      <th>outcome</th>\n",
       "      <td>2</td>\n",
       "    </tr>\n",
       "    <tr>\n",
       "      <th>surgical_lesion?</th>\n",
       "      <td>2</td>\n",
       "    </tr>\n",
       "    <tr>\n",
       "      <th>site_of_lesion</th>\n",
       "      <td>11300</td>\n",
       "    </tr>\n",
       "    <tr>\n",
       "      <th>type_of_lesion</th>\n",
       "      <td>00000</td>\n",
       "    </tr>\n",
       "    <tr>\n",
       "      <th>subtype_of_lesion</th>\n",
       "      <td>00000</td>\n",
       "    </tr>\n",
       "    <tr>\n",
       "      <th>code_of_lesion</th>\n",
       "      <td>2</td>\n",
       "    </tr>\n",
       "    <tr>\n",
       "      <th>cp_data</th>\n",
       "      <td>NaN</td>\n",
       "    </tr>\n",
       "  </tbody>\n",
       "</table>\n",
       "</div>"
      ],
      "text/plain": [
       "                                  0\n",
       "surgery?                          2\n",
       "age                               1\n",
       "hospital_number              530101\n",
       "rectal_temperature             38.5\n",
       "pulse                            66\n",
       "respiratory_rate                 28\n",
       "temperature_of_extremities        3\n",
       "peripheral_pulse                  3\n",
       "mucous_membranes                NaN\n",
       "capillary_refill_time             2\n",
       "pain                              5\n",
       "peristalsis                       4\n",
       "abdominal_distension              4\n",
       "nasogastric_tube                NaN\n",
       "nasogastric_reflux              NaN\n",
       "nasogastric_reflux_ph           NaN\n",
       "rectal_examination_feces          3\n",
       "abdomen                           5\n",
       "packed_cell_volume               45\n",
       "total_protein                   8.4\n",
       "abdominocentesis_appearance     NaN\n",
       "abdomcentesis_total_protein     NaN\n",
       "outcome                           2\n",
       "surgical_lesion?                  2\n",
       "site_of_lesion                11300\n",
       "type_of_lesion                00000\n",
       "subtype_of_lesion             00000\n",
       "code_of_lesion                    2\n",
       "cp_data                         NaN"
      ]
     },
     "execution_count": 2,
     "metadata": {},
     "output_type": "execute_result"
    }
   ],
   "source": [
    "horse_data.head(1).T"
   ]
  },
  {
   "cell_type": "markdown",
   "metadata": {},
   "source": [
    "# Оставляем только необходимые признаки"
   ]
  },
  {
   "cell_type": "code",
   "execution_count": 3,
   "metadata": {},
   "outputs": [
    {
     "data": {
      "text/html": [
       "<div>\n",
       "<style scoped>\n",
       "    .dataframe tbody tr th:only-of-type {\n",
       "        vertical-align: middle;\n",
       "    }\n",
       "\n",
       "    .dataframe tbody tr th {\n",
       "        vertical-align: top;\n",
       "    }\n",
       "\n",
       "    .dataframe thead th {\n",
       "        text-align: right;\n",
       "    }\n",
       "</style>\n",
       "<table border=\"1\" class=\"dataframe\">\n",
       "  <thead>\n",
       "    <tr style=\"text-align: right;\">\n",
       "      <th></th>\n",
       "      <th>surgery?</th>\n",
       "      <th>age</th>\n",
       "      <th>rectal_temperature</th>\n",
       "      <th>pulse</th>\n",
       "      <th>respiratory_rate</th>\n",
       "      <th>temperature_of_extremities</th>\n",
       "      <th>pain</th>\n",
       "      <th>outcome</th>\n",
       "    </tr>\n",
       "  </thead>\n",
       "  <tbody>\n",
       "    <tr>\n",
       "      <th>0</th>\n",
       "      <td>2</td>\n",
       "      <td>1</td>\n",
       "      <td>38.5</td>\n",
       "      <td>66.0</td>\n",
       "      <td>28.0</td>\n",
       "      <td>3</td>\n",
       "      <td>5</td>\n",
       "      <td>2</td>\n",
       "    </tr>\n",
       "    <tr>\n",
       "      <th>1</th>\n",
       "      <td>1</td>\n",
       "      <td>1</td>\n",
       "      <td>39.2</td>\n",
       "      <td>88.0</td>\n",
       "      <td>20.0</td>\n",
       "      <td>NaN</td>\n",
       "      <td>3</td>\n",
       "      <td>3</td>\n",
       "    </tr>\n",
       "    <tr>\n",
       "      <th>2</th>\n",
       "      <td>2</td>\n",
       "      <td>1</td>\n",
       "      <td>38.3</td>\n",
       "      <td>40.0</td>\n",
       "      <td>24.0</td>\n",
       "      <td>1</td>\n",
       "      <td>3</td>\n",
       "      <td>1</td>\n",
       "    </tr>\n",
       "    <tr>\n",
       "      <th>3</th>\n",
       "      <td>1</td>\n",
       "      <td>9</td>\n",
       "      <td>39.1</td>\n",
       "      <td>164.0</td>\n",
       "      <td>84.0</td>\n",
       "      <td>4</td>\n",
       "      <td>2</td>\n",
       "      <td>2</td>\n",
       "    </tr>\n",
       "    <tr>\n",
       "      <th>4</th>\n",
       "      <td>2</td>\n",
       "      <td>1</td>\n",
       "      <td>37.3</td>\n",
       "      <td>104.0</td>\n",
       "      <td>35.0</td>\n",
       "      <td>NaN</td>\n",
       "      <td>NaN</td>\n",
       "      <td>2</td>\n",
       "    </tr>\n",
       "  </tbody>\n",
       "</table>\n",
       "</div>"
      ],
      "text/plain": [
       "  surgery?  age  rectal_temperature  pulse  respiratory_rate  \\\n",
       "0        2    1                38.5   66.0              28.0   \n",
       "1        1    1                39.2   88.0              20.0   \n",
       "2        2    1                38.3   40.0              24.0   \n",
       "3        1    9                39.1  164.0              84.0   \n",
       "4        2    1                37.3  104.0              35.0   \n",
       "\n",
       "  temperature_of_extremities pain outcome  \n",
       "0                          3    5       2  \n",
       "1                        NaN    3       3  \n",
       "2                          1    3       1  \n",
       "3                          4    2       2  \n",
       "4                        NaN  NaN       2  "
      ]
     },
     "execution_count": 3,
     "metadata": {},
     "output_type": "execute_result"
    }
   ],
   "source": [
    "need_attributes = [\n",
    "    \"surgery?\",\n",
    "    \"age\",\n",
    "    \"rectal_temperature\",\n",
    "    \"pulse\",\n",
    "    \"respiratory_rate\",\n",
    "    \"temperature_of_extremities\",\n",
    "    \"pain\",\n",
    "    \"outcome\",\n",
    "]\n",
    "horse_data = horse_data[need_attributes]\n",
    "horse_data.head()"
   ]
  },
  {
   "cell_type": "markdown",
   "metadata": {},
   "source": [
    "## Задание 2. Первичное изучение данных\n",
    "\n",
    "Проанализировать значения по столбцам, рассчитать базовые статистики, найти выбросы."
   ]
  },
  {
   "cell_type": "code",
   "execution_count": 4,
   "metadata": {},
   "outputs": [],
   "source": [
    "discrete_features = ['age']\n",
    "continuous_features = ['rectal_temperature', 'pulse', 'respiratory_rate']\n",
    "categorical_features = ['surgery?', 'temperature_of_extremities', 'pain', 'outcome']"
   ]
  },
  {
   "cell_type": "markdown",
   "metadata": {},
   "source": [
    "# Базовые статистики (количественные типы данных)"
   ]
  },
  {
   "cell_type": "code",
   "execution_count": 5,
   "metadata": {},
   "outputs": [
    {
     "data": {
      "text/html": [
       "<div>\n",
       "<style scoped>\n",
       "    .dataframe tbody tr th:only-of-type {\n",
       "        vertical-align: middle;\n",
       "    }\n",
       "\n",
       "    .dataframe tbody tr th {\n",
       "        vertical-align: top;\n",
       "    }\n",
       "\n",
       "    .dataframe thead th {\n",
       "        text-align: right;\n",
       "    }\n",
       "</style>\n",
       "<table border=\"1\" class=\"dataframe\">\n",
       "  <thead>\n",
       "    <tr style=\"text-align: right;\">\n",
       "      <th></th>\n",
       "      <th>age</th>\n",
       "      <th>rectal_temperature</th>\n",
       "      <th>pulse</th>\n",
       "      <th>respiratory_rate</th>\n",
       "    </tr>\n",
       "  </thead>\n",
       "  <tbody>\n",
       "    <tr>\n",
       "      <th>count</th>\n",
       "      <td>300.000000</td>\n",
       "      <td>240.000000</td>\n",
       "      <td>276.000000</td>\n",
       "      <td>242.000000</td>\n",
       "    </tr>\n",
       "    <tr>\n",
       "      <th>mean</th>\n",
       "      <td>1.640000</td>\n",
       "      <td>38.167917</td>\n",
       "      <td>71.913043</td>\n",
       "      <td>30.417355</td>\n",
       "    </tr>\n",
       "    <tr>\n",
       "      <th>std</th>\n",
       "      <td>2.173972</td>\n",
       "      <td>0.732289</td>\n",
       "      <td>28.630557</td>\n",
       "      <td>17.642231</td>\n",
       "    </tr>\n",
       "    <tr>\n",
       "      <th>min</th>\n",
       "      <td>1.000000</td>\n",
       "      <td>35.400000</td>\n",
       "      <td>30.000000</td>\n",
       "      <td>8.000000</td>\n",
       "    </tr>\n",
       "    <tr>\n",
       "      <th>25%</th>\n",
       "      <td>1.000000</td>\n",
       "      <td>37.800000</td>\n",
       "      <td>48.000000</td>\n",
       "      <td>18.500000</td>\n",
       "    </tr>\n",
       "    <tr>\n",
       "      <th>50%</th>\n",
       "      <td>1.000000</td>\n",
       "      <td>38.200000</td>\n",
       "      <td>64.000000</td>\n",
       "      <td>24.500000</td>\n",
       "    </tr>\n",
       "    <tr>\n",
       "      <th>75%</th>\n",
       "      <td>1.000000</td>\n",
       "      <td>38.500000</td>\n",
       "      <td>88.000000</td>\n",
       "      <td>36.000000</td>\n",
       "    </tr>\n",
       "    <tr>\n",
       "      <th>max</th>\n",
       "      <td>9.000000</td>\n",
       "      <td>40.800000</td>\n",
       "      <td>184.000000</td>\n",
       "      <td>96.000000</td>\n",
       "    </tr>\n",
       "  </tbody>\n",
       "</table>\n",
       "</div>"
      ],
      "text/plain": [
       "              age  rectal_temperature       pulse  respiratory_rate\n",
       "count  300.000000          240.000000  276.000000        242.000000\n",
       "mean     1.640000           38.167917   71.913043         30.417355\n",
       "std      2.173972            0.732289   28.630557         17.642231\n",
       "min      1.000000           35.400000   30.000000          8.000000\n",
       "25%      1.000000           37.800000   48.000000         18.500000\n",
       "50%      1.000000           38.200000   64.000000         24.500000\n",
       "75%      1.000000           38.500000   88.000000         36.000000\n",
       "max      9.000000           40.800000  184.000000         96.000000"
      ]
     },
     "execution_count": 5,
     "metadata": {},
     "output_type": "execute_result"
    }
   ],
   "source": [
    "horse_data.describe()"
   ]
  },
  {
   "cell_type": "markdown",
   "metadata": {},
   "source": [
    "# Базовые статистики (дискретные и качественные типы данных)"
   ]
  },
  {
   "cell_type": "code",
   "execution_count": 6,
   "metadata": {},
   "outputs": [
    {
     "data": {
      "text/html": [
       "<div>\n",
       "<style scoped>\n",
       "    .dataframe tbody tr th:only-of-type {\n",
       "        vertical-align: middle;\n",
       "    }\n",
       "\n",
       "    .dataframe tbody tr th {\n",
       "        vertical-align: top;\n",
       "    }\n",
       "\n",
       "    .dataframe thead th {\n",
       "        text-align: right;\n",
       "    }\n",
       "</style>\n",
       "<table border=\"1\" class=\"dataframe\">\n",
       "  <thead>\n",
       "    <tr style=\"text-align: right;\">\n",
       "      <th></th>\n",
       "      <th>age</th>\n",
       "      <th>surgery?</th>\n",
       "      <th>temperature_of_extremities</th>\n",
       "      <th>pain</th>\n",
       "      <th>outcome</th>\n",
       "    </tr>\n",
       "  </thead>\n",
       "  <tbody>\n",
       "    <tr>\n",
       "      <th>0</th>\n",
       "      <td>1</td>\n",
       "      <td>1</td>\n",
       "      <td>3</td>\n",
       "      <td>3</td>\n",
       "      <td>1</td>\n",
       "    </tr>\n",
       "  </tbody>\n",
       "</table>\n",
       "</div>"
      ],
      "text/plain": [
       "   age surgery? temperature_of_extremities pain outcome\n",
       "0    1        1                          3    3       1"
      ]
     },
     "execution_count": 6,
     "metadata": {},
     "output_type": "execute_result"
    }
   ],
   "source": [
    "horse_data[discrete_features + categorical_features].mode()"
   ]
  },
  {
   "cell_type": "code",
   "execution_count": 7,
   "metadata": {},
   "outputs": [],
   "source": [
    "def outliers(source, feature, action='fiколичественныеколичественныеlter', dropna=False):  \n",
    "    if dropna:\n",
    "        df = source.dropna(subset=[feature])\n",
    "    else:\n",
    "        df = source\n",
    "    \n",
    "    q1 = df[feature].quantile(0.25)\n",
    "    q3 = df[feature].quantile(0.75)\n",
    "    iqr = q3 - q1\n",
    "    \n",
    "    lower_bound = q1 - 1.5 * iqr\n",
    "    upper_bound = q3 + 1.5 * iqr\n",
    "    \n",
    "    filter_outliers = df[feature].between(lower_bound, upper_bound, inclusive=True)\n",
    "    \n",
    "    if action == 'filter':\n",
    "        return df[filter_outliers]\n",
    "    elif action == 'show':\n",
    "        return df[~filter_outliers]"
   ]
  },
  {
   "cell_type": "markdown",
   "metadata": {},
   "source": [
    "# Выбросы по возрасту\n",
    "Интерпретация результатов:\n",
    "* 9 лет - естественное значение, не считаем выбросом"
   ]
  },
  {
   "cell_type": "code",
   "execution_count": 8,
   "metadata": {},
   "outputs": [
    {
     "data": {
      "text/plain": [
       "array([9], dtype=int8)"
      ]
     },
     "execution_count": 8,
     "metadata": {},
     "output_type": "execute_result"
    }
   ],
   "source": [
    "outliers_feature = outliers(horse_data, 'age', 'show')\n",
    "outliers_feature.age.unique()"
   ]
  },
  {
   "cell_type": "markdown",
   "metadata": {},
   "source": [
    "# Выбросы по ректальной температуре\n",
    "* минимальное значение выброса: `35.4` - допустимое значение, говорит о шоковом состоянии(?) (`in late shock`)\n",
    "* максимальное значение выброса: `40.8` - допустимое значение, говорит о возможной инфекции"
   ]
  },
  {
   "cell_type": "code",
   "execution_count": 9,
   "metadata": {},
   "outputs": [
    {
     "data": {
      "text/plain": [
       "min    35.4\n",
       "max    40.8\n",
       "Name: rectal_temperature, dtype: float64"
      ]
     },
     "execution_count": 9,
     "metadata": {},
     "output_type": "execute_result"
    }
   ],
   "source": [
    "outliers_feature = outliers(horse_data, 'rectal_temperature', 'show', True)\n",
    "outliers_feature.rectal_temperature.agg(['min', 'max'])"
   ]
  },
  {
   "cell_type": "markdown",
   "metadata": {},
   "source": [
    "# Выбросы по пульсу\n",
    "* минимальное и максимальное значение превышают нормальный пульс почти в 4-ре раза. "
   ]
  },
  {
   "cell_type": "code",
   "execution_count": 10,
   "metadata": {},
   "outputs": [
    {
     "data": {
      "text/plain": [
       "min    150.0\n",
       "max    184.0\n",
       "Name: pulse, dtype: float64"
      ]
     },
     "execution_count": 10,
     "metadata": {},
     "output_type": "execute_result"
    }
   ],
   "source": [
    "outliers_feature = outliers(horse_data, 'pulse', 'show', True)\n",
    "outliers_feature.pulse.agg(['min', 'max'])"
   ]
  },
  {
   "cell_type": "markdown",
   "metadata": {},
   "source": [
    "# Выбросы по частоте дыхания\n",
    "* минимальное значение выброса превышает норму более чем в 4 раза\n",
    "* максимальное значение выброса превышает норму более чем в 18 раз\n",
    "\n",
    "Полезность этих значений сомнительна (?)\n",
    ">usefulness is doubtful due to the great fluctuations"
   ]
  },
  {
   "cell_type": "code",
   "execution_count": 11,
   "metadata": {},
   "outputs": [
    {
     "data": {
      "text/plain": [
       "min     42.0\n",
       "max    184.0\n",
       "Name: pulse, dtype: float64"
      ]
     },
     "execution_count": 11,
     "metadata": {},
     "output_type": "execute_result"
    }
   ],
   "source": [
    "outliers_feature = outliers(horse_data, 'respiratory_rate', 'show', True)\n",
    "outliers_feature.pulse.agg(['min', 'max'])"
   ]
  },
  {
   "cell_type": "markdown",
   "metadata": {},
   "source": [
    "# Задание 3. Работа с пропусками\n",
    "\n",
    "Рассчитать количество пропусков для всех выбранных столбцов. Принять и обосновать решение о методе заполнения пропусков по каждому столбцу на основе рассчитанных статистик и возможной взаимосвязи значений в них. Сформировать датафрейм, в котором пропуски будут отсутствовать."
   ]
  },
  {
   "cell_type": "markdown",
   "metadata": {},
   "source": [
    "# Считаем пропуски"
   ]
  },
  {
   "cell_type": "code",
   "execution_count": 12,
   "metadata": {},
   "outputs": [
    {
     "name": "stdout",
     "output_type": "stream",
     "text": [
      "<class 'pandas.core.frame.DataFrame'>\n",
      "RangeIndex: 300 entries, 0 to 299\n",
      "Data columns (total 8 columns):\n",
      " #   Column                      Non-Null Count  Dtype   \n",
      "---  ------                      --------------  -----   \n",
      " 0   surgery?                    299 non-null    category\n",
      " 1   age                         300 non-null    int8    \n",
      " 2   rectal_temperature          240 non-null    float64 \n",
      " 3   pulse                       276 non-null    float64 \n",
      " 4   respiratory_rate            242 non-null    float64 \n",
      " 5   temperature_of_extremities  244 non-null    category\n",
      " 6   pain                        245 non-null    category\n",
      " 7   outcome                     299 non-null    category\n",
      "dtypes: category(4), float64(3), int8(1)\n",
      "memory usage: 9.2 KB\n"
     ]
    }
   ],
   "source": [
    "horse_data.info()"
   ]
  },
  {
   "cell_type": "code",
   "execution_count": 13,
   "metadata": {},
   "outputs": [
    {
     "data": {
      "text/plain": [
       "age                            0.00\n",
       "surgery?                       0.33\n",
       "outcome                        0.33\n",
       "pulse                          8.00\n",
       "pain                          18.33\n",
       "temperature_of_extremities    18.67\n",
       "respiratory_rate              19.33\n",
       "rectal_temperature            20.00\n",
       "dtype: float64"
      ]
     },
     "execution_count": 13,
     "metadata": {},
     "output_type": "execute_result"
    }
   ],
   "source": [
    "(horse_data.isna().mean() * 100).round(2).sort_values()"
   ]
  },
  {
   "cell_type": "markdown",
   "metadata": {},
   "source": [
    "# Пропуски - что делаем?\n",
    "\n",
    "Попробуем посмотреть на изменение статистик после удаления пропусков."
   ]
  },
  {
   "cell_type": "code",
   "execution_count": 14,
   "metadata": {},
   "outputs": [],
   "source": [
    "def missing_values_drop_impact_quantitative(df, *features):\n",
    "    original = df.describe().T\n",
    "    na_dropped = df.dropna(subset=features).describe().T\n",
    "    # считаем изменение статистик\n",
    "    return (((original - na_dropped) / original) * 100).round(4)\n",
    "\n",
    "def missing_values_drop_impact_mode(df, *features):\n",
    "    original = df.mode()\n",
    "    na_dropped = df.dropna(subset=features).mode()\n",
    "    # смотрим изменения\n",
    "    return original == na_dropped"
   ]
  },
  {
   "cell_type": "markdown",
   "metadata": {},
   "source": [
    "## Пропуски surgery? и outcome\n",
    "Пропуск для `surgery?` и `outcome` совпадает. Будем анализировать их вместе."
   ]
  },
  {
   "cell_type": "code",
   "execution_count": 15,
   "metadata": {},
   "outputs": [
    {
     "data": {
      "text/html": [
       "<div>\n",
       "<style scoped>\n",
       "    .dataframe tbody tr th:only-of-type {\n",
       "        vertical-align: middle;\n",
       "    }\n",
       "\n",
       "    .dataframe tbody tr th {\n",
       "        vertical-align: top;\n",
       "    }\n",
       "\n",
       "    .dataframe thead th {\n",
       "        text-align: right;\n",
       "    }\n",
       "</style>\n",
       "<table border=\"1\" class=\"dataframe\">\n",
       "  <thead>\n",
       "    <tr style=\"text-align: right;\">\n",
       "      <th></th>\n",
       "      <th>surgery?</th>\n",
       "      <th>age</th>\n",
       "      <th>rectal_temperature</th>\n",
       "      <th>pulse</th>\n",
       "      <th>respiratory_rate</th>\n",
       "      <th>temperature_of_extremities</th>\n",
       "      <th>pain</th>\n",
       "      <th>outcome</th>\n",
       "    </tr>\n",
       "  </thead>\n",
       "  <tbody>\n",
       "    <tr>\n",
       "      <th>132</th>\n",
       "      <td>NaN</td>\n",
       "      <td>1</td>\n",
       "      <td>38.0</td>\n",
       "      <td>48.0</td>\n",
       "      <td>20.0</td>\n",
       "      <td>3</td>\n",
       "      <td>4</td>\n",
       "      <td>NaN</td>\n",
       "    </tr>\n",
       "  </tbody>\n",
       "</table>\n",
       "</div>"
      ],
      "text/plain": [
       "    surgery?  age  rectal_temperature  pulse  respiratory_rate  \\\n",
       "132      NaN    1                38.0   48.0              20.0   \n",
       "\n",
       "    temperature_of_extremities pain outcome  \n",
       "132                          3    4     NaN  "
      ]
     },
     "execution_count": 15,
     "metadata": {},
     "output_type": "execute_result"
    }
   ],
   "source": [
    "horse_data[horse_data['surgery?'].isna()]"
   ]
  },
  {
   "cell_type": "markdown",
   "metadata": {},
   "source": [
    "## Пропуски surgery? и outcome / количественные типы данных\n",
    "Заметным изменениям (более 1%) подвергся `respiratory_rate`:\n",
    "* 1-ая кваритиль: 2.7%\n",
    "* 2-ая квартиль: -2.0%"
   ]
  },
  {
   "cell_type": "code",
   "execution_count": 16,
   "metadata": {},
   "outputs": [
    {
     "data": {
      "text/html": [
       "<div>\n",
       "<style scoped>\n",
       "    .dataframe tbody tr th:only-of-type {\n",
       "        vertical-align: middle;\n",
       "    }\n",
       "\n",
       "    .dataframe tbody tr th {\n",
       "        vertical-align: top;\n",
       "    }\n",
       "\n",
       "    .dataframe thead th {\n",
       "        text-align: right;\n",
       "    }\n",
       "</style>\n",
       "<table border=\"1\" class=\"dataframe\">\n",
       "  <thead>\n",
       "    <tr style=\"text-align: right;\">\n",
       "      <th></th>\n",
       "      <th>count</th>\n",
       "      <th>mean</th>\n",
       "      <th>std</th>\n",
       "      <th>min</th>\n",
       "      <th>25%</th>\n",
       "      <th>50%</th>\n",
       "      <th>75%</th>\n",
       "      <th>max</th>\n",
       "    </tr>\n",
       "  </thead>\n",
       "  <tbody>\n",
       "    <tr>\n",
       "      <th>age</th>\n",
       "      <td>0.3333</td>\n",
       "      <td>-0.1305</td>\n",
       "      <td>-0.1531</td>\n",
       "      <td>0.0</td>\n",
       "      <td>0.0000</td>\n",
       "      <td>0.0000</td>\n",
       "      <td>0.0</td>\n",
       "      <td>0.0</td>\n",
       "    </tr>\n",
       "    <tr>\n",
       "      <th>rectal_temperature</th>\n",
       "      <td>0.4167</td>\n",
       "      <td>-0.0018</td>\n",
       "      <td>-0.1988</td>\n",
       "      <td>0.0</td>\n",
       "      <td>0.0000</td>\n",
       "      <td>0.0000</td>\n",
       "      <td>0.0</td>\n",
       "      <td>0.0</td>\n",
       "    </tr>\n",
       "    <tr>\n",
       "      <th>pulse</th>\n",
       "      <td>0.3623</td>\n",
       "      <td>-0.1209</td>\n",
       "      <td>-0.0547</td>\n",
       "      <td>0.0</td>\n",
       "      <td>0.0000</td>\n",
       "      <td>0.0000</td>\n",
       "      <td>0.0</td>\n",
       "      <td>0.0</td>\n",
       "    </tr>\n",
       "    <tr>\n",
       "      <th>respiratory_rate</th>\n",
       "      <td>0.4132</td>\n",
       "      <td>-0.1421</td>\n",
       "      <td>-0.1353</td>\n",
       "      <td>0.0</td>\n",
       "      <td>2.7027</td>\n",
       "      <td>-2.0408</td>\n",
       "      <td>0.0</td>\n",
       "      <td>0.0</td>\n",
       "    </tr>\n",
       "  </tbody>\n",
       "</table>\n",
       "</div>"
      ],
      "text/plain": [
       "                     count    mean     std  min     25%     50%  75%  max\n",
       "age                 0.3333 -0.1305 -0.1531  0.0  0.0000  0.0000  0.0  0.0\n",
       "rectal_temperature  0.4167 -0.0018 -0.1988  0.0  0.0000  0.0000  0.0  0.0\n",
       "pulse               0.3623 -0.1209 -0.0547  0.0  0.0000  0.0000  0.0  0.0\n",
       "respiratory_rate    0.4132 -0.1421 -0.1353  0.0  2.7027 -2.0408  0.0  0.0"
      ]
     },
     "execution_count": 16,
     "metadata": {},
     "output_type": "execute_result"
    }
   ],
   "source": [
    "missing_values_drop_impact_quantitative(horse_data, 'surgery?', 'outcome')"
   ]
  },
  {
   "cell_type": "markdown",
   "metadata": {},
   "source": [
    "## Пропуски surgery? и outcome / дискретные и качественные типы данных\n",
    "Мода не меняется"
   ]
  },
  {
   "cell_type": "code",
   "execution_count": 18,
   "metadata": {},
   "outputs": [
    {
     "data": {
      "text/html": [
       "<div>\n",
       "<style scoped>\n",
       "    .dataframe tbody tr th:only-of-type {\n",
       "        vertical-align: middle;\n",
       "    }\n",
       "\n",
       "    .dataframe tbody tr th {\n",
       "        vertical-align: top;\n",
       "    }\n",
       "\n",
       "    .dataframe thead th {\n",
       "        text-align: right;\n",
       "    }\n",
       "</style>\n",
       "<table border=\"1\" class=\"dataframe\">\n",
       "  <thead>\n",
       "    <tr style=\"text-align: right;\">\n",
       "      <th></th>\n",
       "      <th>age</th>\n",
       "      <th>surgery?</th>\n",
       "      <th>temperature_of_extremities</th>\n",
       "      <th>pain</th>\n",
       "      <th>outcome</th>\n",
       "    </tr>\n",
       "  </thead>\n",
       "  <tbody>\n",
       "    <tr>\n",
       "      <th>0</th>\n",
       "      <td>True</td>\n",
       "      <td>True</td>\n",
       "      <td>True</td>\n",
       "      <td>True</td>\n",
       "      <td>True</td>\n",
       "    </tr>\n",
       "  </tbody>\n",
       "</table>\n",
       "</div>"
      ],
      "text/plain": [
       "    age  surgery?  temperature_of_extremities  pain  outcome\n",
       "0  True      True                        True  True     True"
      ]
     },
     "execution_count": 18,
     "metadata": {},
     "output_type": "execute_result"
    }
   ],
   "source": [
    "missing_values_drop_impact_mode(horse_data[discrete_features+categorical_features], 'surgery?', 'outcome')"
   ]
  }
 ],
 "metadata": {
  "kernelspec": {
   "display_name": "Python 3",
   "language": "python",
   "name": "python3"
  },
  "language_info": {
   "codemirror_mode": {
    "name": "ipython",
    "version": 3
   },
   "file_extension": ".py",
   "mimetype": "text/x-python",
   "name": "python",
   "nbconvert_exporter": "python",
   "pygments_lexer": "ipython3",
   "version": "3.8.5"
  }
 },
 "nbformat": 4,
 "nbformat_minor": 4
}
