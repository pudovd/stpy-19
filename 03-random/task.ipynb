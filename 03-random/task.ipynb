{
 "cells": [
  {
   "cell_type": "markdown",
   "metadata": {},
   "source": [
    "## Домашнее задание к лекции «Случайные события. Случайные величины»\n",
    "\n",
    "Смоделировать игру против лотерейного автомата типа “777”. Игрок платит 1 руб., после чего выпадает случайное целое число, равномерно распределенное от 0 до 999. При некоторых значениях числа игрок получает выигрыш (см. справа)\n",
    "\n",
    "Выгодна ли игра игроку?\n",
    "\n",
    "Сколько в среднем приобретает\n",
    "или теряет игрок за одну игру?\n",
    "\n",
    "777: 200 руб.  \n",
    "999: 100 руб.  \n",
    "555: 50 руб.  \n",
    "333: 15 руб.  \n",
    "111: 10 руб.  \n",
    "\\*77: 5 руб.  \n",
    "\\*\\*7: 3 руб.  \n",
    "\\*00: 2 руб.  \n",
    "\\*\\*0: 1 руб.  \n",
    "\n",
    "    * - любая цифра\n",
    "\n",
    "#### Дополнительное задание повышенной сложности. \n",
    "Теоретически рассчитать средний выигрыш (проигрыш) и сравнить с результатами моделирования"
   ]
  },
  {
   "cell_type": "code",
   "execution_count": 1,
   "metadata": {},
   "outputs": [],
   "source": [
    "win_combinations = [\n",
    "    [777, 200],\n",
    "    [999, 100],\n",
    "    [555, 50],\n",
    "    [333, 15],\n",
    "    [111, 10],\n",
    "    [77, 5],\n",
    "    [7, 3],\n",
    "    [100, 2],\n",
    "    [10, 1]\n",
    "]\n",
    "\n",
    "def win_for_combination(checked_combination, win_combinations=win_combinations):\n",
    "    for combination, win in win_combinations:\n",
    "        if (checked_combination % combination == 0 \n",
    "            or checked_combination % 100 >= combination and checked_combination % 100 % combination == 0\n",
    "            or checked_combination % 10 >= combination and checked_combination % 10 % combination == 0\n",
    "           ):\n",
    "            return win\n",
    "    return 0\n",
    "\n",
    "assert win_for_combination(777) == 200  # 777 => 200 рублей\n",
    "assert win_for_combination(377) == 5    # x77 => 5 рублей\n",
    "assert win_for_combination(337) == 3    # xx7 => 3 рубля\n",
    "assert win_for_combination(300) == 2    # x00 => 2 рубля\n",
    "assert win_for_combination(20) == 1     # xx0 => 1 рубль"
   ]
  },
  {
   "cell_type": "code",
   "execution_count": 2,
   "metadata": {},
   "outputs": [
    {
     "name": "stdout",
     "output_type": "stream",
     "text": [
      "0.723123\n"
     ]
    }
   ],
   "source": [
    "import numpy as np\n",
    "\n",
    "\n",
    "trials = 10**6\n",
    "balance = 0\n",
    "\n",
    "for i in range(trials):\n",
    "    value = np.random.randint(0, 1000)\n",
    "    \n",
    "    balance += -1\n",
    "    balance += win_for_combination(value)\n",
    "\n",
    "print(balance / trials)"
   ]
  },
  {
   "cell_type": "markdown",
   "metadata": {},
   "source": [
    "### Вывод\n",
    "Игра выгодна игроку.\n",
    "В каждой игре, в среднем, он зарабатывает около 70 копеек."
   ]
  }
 ],
 "metadata": {
  "kernelspec": {
   "display_name": "Python 3",
   "language": "python",
   "name": "python3"
  },
  "language_info": {
   "codemirror_mode": {
    "name": "ipython",
    "version": 3
   },
   "file_extension": ".py",
   "mimetype": "text/x-python",
   "name": "python",
   "nbconvert_exporter": "python",
   "pygments_lexer": "ipython3",
   "version": "3.8.5"
  }
 },
 "nbformat": 4,
 "nbformat_minor": 4
}
