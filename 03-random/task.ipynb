{
 "cells": [
  {
   "cell_type": "markdown",
   "metadata": {},
   "source": [
    "## Домашнее задание к лекции «Случайные события. Случайные величины»\n",
    "\n",
    "Смоделировать игру против лотерейного автомата типа “777”. Игрок платит 1 руб., после чего выпадает случайное целое число, равномерно распределенное от 0 до 999. При некоторых значениях числа игрок получает выигрыш (см. справа)\n",
    "\n",
    "Выгодна ли игра игроку?\n",
    "\n",
    "Сколько в среднем приобретает\n",
    "или теряет игрок за одну игру?\n",
    "\n",
    "777: 200 руб.  \n",
    "999: 100 руб.  \n",
    "555: 50 руб.  \n",
    "333: 15 руб.  \n",
    "111: 10 руб.  \n",
    "\\*77: 5 руб.  \n",
    "\\*\\*7: 3 руб.  \n",
    "\\*00: 2 руб.  \n",
    "\\*\\*0: 1 руб.  \n",
    "\n",
    "    * - любая цифра\n",
    "\n",
    "#### Дополнительное задание повышенной сложности. \n",
    "Теоретически рассчитать средний выигрыш (проигрыш) и сравнить с результатами моделирования"
   ]
  },
  {
   "cell_type": "code",
   "execution_count": 1,
   "metadata": {},
   "outputs": [],
   "source": [
    "import re\n",
    "\n",
    "\n",
    "win_combinations = [\n",
    "    ['777', 200],\n",
    "    ['999', 100],\n",
    "    ['555', 50],\n",
    "    ['333', 15],\n",
    "    ['111', 10],\n",
    "    ['X77', 5],\n",
    "    ['XX7', 3],\n",
    "    ['X00', 2],\n",
    "    ['XX0', 1]\n",
    "]\n",
    "\n",
    "win_combinations_regex = [[re.compile(r'^' + combination.replace('X', '.') + '$'), win] for combination, win in win_combinations]\n",
    "\n",
    "def win_for_combination(checked_combination, win_combinations_regex=win_combinations_regex):\n",
    "    checked_combination_string = str(checked_combination).zfill(3)\n",
    "    for regex, win in win_combinations_regex:\n",
    "        if regex.match(checked_combination_string):\n",
    "            return win\n",
    "\n",
    "    return 0\n",
    "\n",
    "assert win_for_combination(777) == 200  # 777 => 200 рублей\n",
    "assert win_for_combination(111) == 10   # 111 => 10 рублей\n",
    "assert win_for_combination(377) == 5    # x77 => 5 рублей\n",
    "assert win_for_combination( 77) == 5    # x77 => 5 рублей\n",
    "assert win_for_combination(337) == 3    # xx7 => 3 рубля\n",
    "assert win_for_combination( 37) == 3    # xx7 => 3 рубля\n",
    "assert win_for_combination(  7) == 3    # xx7 => 3 рубля\n",
    "assert win_for_combination(300) == 2    # x00 => 2 рубля\n",
    "assert win_for_combination(  0) == 2    # x00 => 2 рубля\n",
    "assert win_for_combination( 20) == 1    # xx0 => 1 рубль\n",
    "\n",
    "assert win_for_combination( 22) == 0    # неизвестная комбинация => 0 рублей\n",
    "assert win_for_combination(141) == 0    # неизвестная комбинация => 0 рублей"
   ]
  },
  {
   "cell_type": "code",
   "execution_count": 2,
   "metadata": {},
   "outputs": [
    {
     "name": "stdout",
     "output_type": "stream",
     "text": [
      "-0.196724\n"
     ]
    }
   ],
   "source": [
    "import numpy as np\n",
    "\n",
    "\n",
    "trials = 10**6\n",
    "balance = 0\n",
    "\n",
    "for i in range(trials):\n",
    "    value = np.random.randint(0, 1000)\n",
    "    \n",
    "    balance += -1\n",
    "    balance += win_for_combination(value)\n",
    "\n",
    "print(balance / trials)"
   ]
  },
  {
   "cell_type": "markdown",
   "metadata": {},
   "source": [
    "### Вывод\n",
    "Игроку не следует играть с автоматом \"777\", т.к.  \n",
    "в каждой игре, в среднем, он теряет около 19 копеек."
   ]
  },
  {
   "cell_type": "code",
   "execution_count": 3,
   "metadata": {},
   "outputs": [
    {
     "data": {
      "text/plain": [
       "-0.19499999999999995"
      ]
     },
     "execution_count": 3,
     "metadata": {},
     "output_type": "execute_result"
    }
   ],
   "source": [
    "# вероятность комбинации и размер выигрыша\n",
    "px = [\n",
    "    (1/1000, 200), # 777 => 200 руб\n",
    "    (1/1000, 100), # 999 => 100 руб\n",
    "    (1/1000, 50),  # 555 =>  50 руб\n",
    "    (1/1000, 15),  # 333 =>  15 руб\n",
    "    (1/1000, 10),  # 111 =>  10 руб\n",
    "    (10/1000, 5),  # x77 =>   5 руб\n",
    "    (90/1000, 3),  # xx7 =>   3 руб, 100 комбинаций за исключением десяти (x77)\n",
    "    (10/1000, 2),  # x00 =>   2 руб\n",
    "    (90/1000, 1),  # xx0 =>   1 руб, 100 комбинаций за исключением десяти (x00)\n",
    "]\n",
    "\n",
    "# Добавим вероятность безвыигрышной комбинации\n",
    "p_loss = (1 - sum([p for p, x in px]))\n",
    "# и добавим ее к остальным вероятност\n",
    "px.append((p_loss, 0))\n",
    "\n",
    "\n",
    "attempt_cost = 1 # стоимость попытки: 1 руб\n",
    "\n",
    "# Расчитаем среднее значение выигрыша с учетом стоимости попытки\n",
    "sum([p*(x-attempt_cost) for p, x in px]) "
   ]
  }
 ],
 "metadata": {
  "kernelspec": {
   "display_name": "Python 3",
   "language": "python",
   "name": "python3"
  },
  "language_info": {
   "codemirror_mode": {
    "name": "ipython",
    "version": 3
   },
   "file_extension": ".py",
   "mimetype": "text/x-python",
   "name": "python",
   "nbconvert_exporter": "python",
   "pygments_lexer": "ipython3",
   "version": "3.8.5"
  }
 },
 "nbformat": 4,
 "nbformat_minor": 4
}
